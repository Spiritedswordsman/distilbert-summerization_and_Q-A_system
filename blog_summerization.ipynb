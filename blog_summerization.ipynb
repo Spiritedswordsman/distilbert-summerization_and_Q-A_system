{
  "nbformat": 4,
  "nbformat_minor": 0,
  "metadata": {
    "colab": {
      "provenance": []
    },
    "kernelspec": {
      "name": "python3",
      "display_name": "Python 3"
    },
    "language_info": {
      "name": "python"
    }
  },
  "cells": [
    {
      "cell_type": "code",
      "execution_count": null,
      "metadata": {
        "id": "GF1UO0tfnCIo"
      },
      "outputs": [],
      "source": [
        "from transformers import pipeline\n",
        "from bs4 import BeautifulSoup\n",
        "import requests"
      ]
    },
    {
      "cell_type": "code",
      "source": [
        "summarizer = pipeline(\"summarization\")"
      ],
      "metadata": {
        "colab": {
          "base_uri": "https://localhost:8080/"
        },
        "id": "y4iZ8YzknYbO",
        "outputId": "1513acc5-31f4-44fc-831f-9c7859372cd7"
      },
      "execution_count": null,
      "outputs": [
        {
          "output_type": "stream",
          "name": "stderr",
          "text": [
            "No model was supplied, defaulted to sshleifer/distilbart-cnn-12-6 and revision a4f8f3e (https://huggingface.co/sshleifer/distilbart-cnn-12-6).\n",
            "Using a pipeline without specifying a model name and revision in production is not recommended.\n",
            "/usr/local/lib/python3.10/dist-packages/huggingface_hub/file_download.py:1132: FutureWarning: `resume_download` is deprecated and will be removed in version 1.0.0. Downloads always resume when possible. If you want to force a new download, use `force_download=True`.\n",
            "  warnings.warn(\n"
          ]
        }
      ]
    },
    {
      "cell_type": "code",
      "source": [
        "URL = \"https://medium.com/@WriterMaran/the-art-and-business-of-writing-online-how-to-start-and-make-money-8f9f12c7e607\""
      ],
      "metadata": {
        "id": "fgGrhWGmqIak"
      },
      "execution_count": null,
      "outputs": []
    },
    {
      "cell_type": "code",
      "source": [
        "r = requests.get(URL)"
      ],
      "metadata": {
        "id": "8SCrWKymng_J"
      },
      "execution_count": null,
      "outputs": []
    },
    {
      "cell_type": "code",
      "source": [
        "soup = BeautifulSoup(r.text, 'html.parser')\n",
        "soup"
      ],
      "metadata": {
        "colab": {
          "base_uri": "https://localhost:8080/"
        },
        "id": "PrA21hgVqGYw",
        "outputId": "ffc1fbef-c73c-44c0-807f-1d683eed3fec"
      },
      "execution_count": null,
      "outputs": [
        {
          "output_type": "execute_result",
          "data": {
            "text/plain": [
              "<!DOCTYPE html>\n",
              "<html lang=\"en-US\"><head><title>Just a moment...</title><meta content=\"text/html; charset=utf-8\" http-equiv=\"Content-Type\"/><meta content=\"IE=Edge\" http-equiv=\"X-UA-Compatible\"/><meta content=\"noindex,nofollow\" name=\"robots\"/><meta content=\"width=device-width,initial-scale=1\" name=\"viewport\"/><style>*{box-sizing:border-box;margin:0;padding:0}html{line-height:1.15;-webkit-text-size-adjust:100%;color:#313131}button,html{font-family:system-ui,-apple-system,BlinkMacSystemFont,Segoe UI,Roboto,Helvetica Neue,Arial,Noto Sans,sans-serif,Apple Color Emoji,Segoe UI Emoji,Segoe UI Symbol,Noto Color Emoji}@media (prefers-color-scheme:dark){body{background-color:#222;color:#d9d9d9}body a{color:#fff}body a:hover{color:#ee730a;text-decoration:underline}body .lds-ring div{border-color:#999 transparent transparent}body .font-red{color:#b20f03}body .pow-button{background-color:#4693ff;color:#1d1d1d}body #challenge-success-text{background-image:url(data:image/svg+xml;base64,PHN2ZyB4bWxucz0iaHR0cDovL3d3dy53My5vcmcvMjAwMC9zdmciIHdpZHRoPSIzMiIgaGVpZ2h0PSIzMiIgZmlsbD0ibm9uZSIgdmlld0JveD0iMCAwIDI2IDI2Ij48cGF0aCBmaWxsPSIjZDlkOWQ5IiBkPSJNMTMgMGExMyAxMyAwIDEgMCAwIDI2IDEzIDEzIDAgMCAwIDAtMjZtMCAyNGExMSAxMSAwIDEgMSAwLTIyIDExIDExIDAgMCAxIDAgMjIiLz48cGF0aCBmaWxsPSIjZDlkOWQ5IiBkPSJtMTAuOTU1IDE2LjA1NS0zLjk1LTQuMTI1LTEuNDQ1IDEuMzg1IDUuMzcgNS42MSA5LjQ5NS05LjYtMS40Mi0xLjQwNXoiLz48L3N2Zz4=)}body #challenge-error-text{background-image:url(data:image/svg+xml;base64,PHN2ZyB4bWxucz0iaHR0cDovL3d3dy53My5vcmcvMjAwMC9zdmciIHdpZHRoPSIzMiIgaGVpZ2h0PSIzMiIgZmlsbD0ibm9uZSI+PHBhdGggZmlsbD0iI0IyMEYwMyIgZD0iTTE2IDNhMTMgMTMgMCAxIDAgMTMgMTNBMTMuMDE1IDEzLjAxNSAwIDAgMCAxNiAzbTAgMjRhMTEgMTEgMCAxIDEgMTEtMTEgMTEuMDEgMTEuMDEgMCAwIDEtMTEgMTEiLz48cGF0aCBmaWxsPSIjQjIwRjAzIiBkPSJNMTcuMDM4IDE4LjYxNUgxNC44N0wxNC41NjMgOS41aDIuNzgzem0tMS4wODQgMS40MjdxLjY2IDAgMS4wNTcuMzg4LjQwNy4zODkuNDA3Ljk5NCAwIC41OTYtLjQwNy45ODQtLjM5Ny4zOS0xLjA1Ny4zODktLjY1IDAtMS4wNTYtLjM4OS0uMzk4LS4zODktLjM5OC0uOTg0IDAtLjU5Ny4zOTgtLjk4NS40MDYtLjM5NyAxLjA1Ni0uMzk3Ii8+PC9zdmc+)}}body{display:flex;flex-direction:column;min-height:100vh}body.no-js .loading-spinner{visibility:hidden}body.no-js .challenge-running{display:none}body.dark{background-color:#222;color:#d9d9d9}body.dark a{color:#fff}body.dark a:hover{color:#ee730a;text-decoration:underline}body.dark .lds-ring div{border-color:#999 transparent transparent}body.dark .font-red{color:#b20f03}body.dark .pow-button{background-color:#4693ff;color:#1d1d1d}body.dark #challenge-success-text{background-image:url(data:image/svg+xml;base64,PHN2ZyB4bWxucz0iaHR0cDovL3d3dy53My5vcmcvMjAwMC9zdmciIHdpZHRoPSIzMiIgaGVpZ2h0PSIzMiIgZmlsbD0ibm9uZSIgdmlld0JveD0iMCAwIDI2IDI2Ij48cGF0aCBmaWxsPSIjZDlkOWQ5IiBkPSJNMTMgMGExMyAxMyAwIDEgMCAwIDI2IDEzIDEzIDAgMCAwIDAtMjZtMCAyNGExMSAxMSAwIDEgMSAwLTIyIDExIDExIDAgMCAxIDAgMjIiLz48cGF0aCBmaWxsPSIjZDlkOWQ5IiBkPSJtMTAuOTU1IDE2LjA1NS0zLjk1LTQuMTI1LTEuNDQ1IDEuMzg1IDUuMzcgNS42MSA5LjQ5NS05LjYtMS40Mi0xLjQwNXoiLz48L3N2Zz4=)}body.dark #challenge-error-text{background-image:url(data:image/svg+xml;base64,PHN2ZyB4bWxucz0iaHR0cDovL3d3dy53My5vcmcvMjAwMC9zdmciIHdpZHRoPSIzMiIgaGVpZ2h0PSIzMiIgZmlsbD0ibm9uZSI+PHBhdGggZmlsbD0iI0IyMEYwMyIgZD0iTTE2IDNhMTMgMTMgMCAxIDAgMTMgMTNBMTMuMDE1IDEzLjAxNSAwIDAgMCAxNiAzbTAgMjRhMTEgMTEgMCAxIDEgMTEtMTEgMTEuMDEgMTEuMDEgMCAwIDEtMTEgMTEiLz48cGF0aCBmaWxsPSIjQjIwRjAzIiBkPSJNMTcuMDM4IDE4LjYxNUgxNC44N0wxNC41NjMgOS41aDIuNzgzem0tMS4wODQgMS40MjdxLjY2IDAgMS4wNTcuMzg4LjQwNy4zODkuNDA3Ljk5NCAwIC41OTYtLjQwNy45ODQtLjM5Ny4zOS0xLjA1Ny4zODktLjY1IDAtMS4wNTYtLjM4OS0uMzk4LS4zODktLjM5OC0uOTg0IDAtLjU5Ny4zOTgtLjk4NS40MDYtLjM5NyAxLjA1Ni0uMzk3Ii8+PC9zdmc+)}body.light{background-color:transparent;color:#313131}body.light a{color:#0051c3}body.light a:hover{color:#ee730a;text-decoration:underline}body.light .lds-ring div{border-color:#595959 transparent transparent}body.light .font-red{color:#fc574a}body.light .pow-button{background-color:#003681;border-color:#003681;color:#fff}body.light #challenge-success-text{background-image:url(data:image/svg+xml;base64,PHN2ZyB4bWxucz0iaHR0cDovL3d3dy53My5vcmcvMjAwMC9zdmciIHdpZHRoPSIzMiIgaGVpZ2h0PSIzMiIgZmlsbD0ibm9uZSIgdmlld0JveD0iMCAwIDI2IDI2Ij48cGF0aCBmaWxsPSIjMzEzMTMxIiBkPSJNMTMgMGExMyAxMyAwIDEgMCAwIDI2IDEzIDEzIDAgMCAwIDAtMjZtMCAyNGExMSAxMSAwIDEgMSAwLTIyIDExIDExIDAgMCAxIDAgMjIiLz48cGF0aCBmaWxsPSIjMzEzMTMxIiBkPSJtMTAuOTU1IDE2LjA1NS0zLjk1LTQuMTI1LTEuNDQ1IDEuMzg1IDUuMzcgNS42MSA5LjQ5NS05LjYtMS40Mi0xLjQwNXoiLz48L3N2Zz4=)}body.light #challenge-error-text{background-image:url(data:image/svg+xml;base64,PHN2ZyB4bWxucz0iaHR0cDovL3d3dy53My5vcmcvMjAwMC9zdmciIHdpZHRoPSIzMiIgaGVpZ2h0PSIzMiIgZmlsbD0ibm9uZSI+PHBhdGggZmlsbD0iI2ZjNTc0YSIgZD0iTTE2IDNhMTMgMTMgMCAxIDAgMTMgMTNBMTMuMDE1IDEzLjAxNSAwIDAgMCAxNiAzbTAgMjRhMTEgMTEgMCAxIDEgMTEtMTEgMTEuMDEgMTEuMDEgMCAwIDEtMTEgMTEiLz48cGF0aCBmaWxsPSIjZmM1NzRhIiBkPSJNMTcuMDM4IDE4LjYxNUgxNC44N0wxNC41NjMgOS41aDIuNzgzem0tMS4wODQgMS40MjdxLjY2IDAgMS4wNTcuMzg4LjQwNy4zODkuNDA3Ljk5NCAwIC41OTYtLjQwNy45ODQtLjM5Ny4zOS0xLjA1Ny4zODktLjY1IDAtMS4wNTYtLjM4OS0uMzk4LS4zODktLjM5OC0uOTg0IDAtLjU5Ny4zOTgtLjk4NS40MDYtLjM5NyAxLjA1Ni0uMzk3Ii8+PC9zdmc+)}a{background-color:transparent;color:#0051c3;text-decoration:none;transition:color .15s ease}a:hover{color:#ee730a;text-decoration:underline}.main-content{margin:8rem auto;max-width:60rem;width:100%}.heading-favicon{height:2rem;margin-right:.5rem;width:2rem}@media (width <= 720px){.main-content{margin-top:4rem}.heading-favicon{height:1.5rem;width:1.5rem}}.footer,.main-content{padding-left:1.5rem;padding-right:1.5rem}.main-wrapper{align-items:center;display:flex;flex:1;flex-direction:column}.font-red{color:#b20f03}.spacer{margin:2rem 0}.h1{font-size:2.5rem;font-weight:500;line-height:3.75rem}.h2{font-weight:500}.core-msg,.h2{font-size:1.5rem;line-height:2.25rem}.body-text,.core-msg{font-weight:400}.body-text{font-size:1rem;line-height:1.25rem}@media (width <= 720px){.h1{font-size:1.5rem;line-height:1.75rem}.h2{font-size:1.25rem}.core-msg,.h2{line-height:1.5rem}.core-msg{font-size:1rem}}#challenge-error-text{background-image:url(data:image/svg+xml;base64,PHN2ZyB4bWxucz0iaHR0cDovL3d3dy53My5vcmcvMjAwMC9zdmciIHdpZHRoPSIzMiIgaGVpZ2h0PSIzMiIgZmlsbD0ibm9uZSI+PHBhdGggZmlsbD0iI2ZjNTc0YSIgZD0iTTE2IDNhMTMgMTMgMCAxIDAgMTMgMTNBMTMuMDE1IDEzLjAxNSAwIDAgMCAxNiAzbTAgMjRhMTEgMTEgMCAxIDEgMTEtMTEgMTEuMDEgMTEuMDEgMCAwIDEtMTEgMTEiLz48cGF0aCBmaWxsPSIjZmM1NzRhIiBkPSJNMTcuMDM4IDE4LjYxNUgxNC44N0wxNC41NjMgOS41aDIuNzgzem0tMS4wODQgMS40MjdxLjY2IDAgMS4wNTcuMzg4LjQwNy4zODkuNDA3Ljk5NCAwIC41OTYtLjQwNy45ODQtLjM5Ny4zOS0xLjA1Ny4zODktLjY1IDAtMS4wNTYtLjM4OS0uMzk4LS4zODktLjM5OC0uOTg0IDAtLjU5Ny4zOTgtLjk4NS40MDYtLjM5NyAxLjA1Ni0uMzk3Ii8+PC9zdmc+);padding-left:34px}#challenge-error-text,#challenge-success-text{background-repeat:no-repeat;background-size:contain}#challenge-success-text{background-image:url(data:image/svg+xml;base64,PHN2ZyB4bWxucz0iaHR0cDovL3d3dy53My5vcmcvMjAwMC9zdmciIHdpZHRoPSIzMiIgaGVpZ2h0PSIzMiIgZmlsbD0ibm9uZSIgdmlld0JveD0iMCAwIDI2IDI2Ij48cGF0aCBmaWxsPSIjMzEzMTMxIiBkPSJNMTMgMGExMyAxMyAwIDEgMCAwIDI2IDEzIDEzIDAgMCAwIDAtMjZtMCAyNGExMSAxMSAwIDEgMSAwLTIyIDExIDExIDAgMCAxIDAgMjIiLz48cGF0aCBmaWxsPSIjMzEzMTMxIiBkPSJtMTAuOTU1IDE2LjA1NS0zLjk1LTQuMTI1LTEuNDQ1IDEuMzg1IDUuMzcgNS42MSA5LjQ5NS05LjYtMS40Mi0xLjQwNXoiLz48L3N2Zz4=);padding-left:42px}.text-center{text-align:center}.pow-button{background-color:#0051c3;border:.063rem solid #0051c3;border-radius:.313rem;color:#fff;font-size:.875rem;line-height:1.313rem;margin:2rem 0;padding:.375rem 1rem;transition-duration:.2s;transition-property:background-color,border-color,color;transition-timing-function:ease}.pow-button:hover{background-color:#003681;border-color:#003681;color:#fff;cursor:pointer}.footer{font-size:.75rem;line-height:1.125rem;margin:0 auto;max-width:60rem;width:100%}.footer-inner{border-top:1px solid #d9d9d9;padding-bottom:1rem;padding-top:1rem}.clearfix:after{clear:both;content:\"\";display:table}.clearfix .column{float:left;padding-right:1.5rem;width:50%}.diagnostic-wrapper{margin-bottom:.5rem}.footer .ray-id{text-align:center}.footer .ray-id code{font-family:monaco,courier,monospace}.core-msg,.zone-name-title{overflow-wrap:break-word}@media (width <= 720px){.diagnostic-wrapper{display:flex;flex-wrap:wrap;justify-content:center}.clearfix:after{clear:none;content:none;display:initial;text-align:center}.column{padding-bottom:2rem}.clearfix .column{float:none;padding:0;width:auto;word-break:keep-all}.zone-name-title{margin-bottom:1rem}}.loading-spinner{height:76.391px}.lds-ring{display:inline-block;position:relative}.lds-ring,.lds-ring div{height:1.875rem;width:1.875rem}.lds-ring div{animation:lds-ring 1.2s cubic-bezier(.5,0,.5,1) infinite;border:.3rem solid transparent;border-radius:50%;border-top-color:#313131;box-sizing:border-box;display:block;position:absolute}.lds-ring div:first-child{animation-delay:-.45s}.lds-ring div:nth-child(2){animation-delay:-.3s}.lds-ring div:nth-child(3){animation-delay:-.15s}@keyframes lds-ring{0%{transform:rotate(0)}to{transform:rotate(1turn)}}@media screen and (-ms-high-contrast:active),screen and (-ms-high-contrast:none){.main-wrapper,body{display:block}}.rtl .heading-favicon{margin-left:.5rem;margin-right:0}.rtl #challenge-success-text{background-position:100%;padding-left:0;padding-right:42px}.rtl #challenge-error-text{background-position:100%;padding-left:0;padding-right:34px}</style><meta content=\"375\" http-equiv=\"refresh\"/></head><body class=\"no-js\"><div class=\"main-wrapper\" role=\"main\"><div class=\"main-content\"><noscript><div id=\"challenge-error-title\"><div class=\"h2\"><span id=\"challenge-error-text\">Enable JavaScript and cookies to continue</span></div></div></noscript></div></div><script>(function(){window._cf_chl_opt={cvId: '3',cZone: \"medium.com\",cType: 'managed',cNounce: '94443',cRay: '8885daa62c1ca35a',cHash: '3d11412e49091cc',cUPMDTk: \"\\/@WriterMaran\\/the-art-and-business-of-writing-online-how-to-start-and-make-money-8f9f12c7e607?__cf_chl_tk=Apc0FD9ebl_lPRBSCZXaq0e0ZkY3RK7Ey6NthMnwp98-1716475782-0.0.1.1-1813\",cFPWv: 'b',cTTimeMs: '1000',cMTimeMs: '375000',cTplV: 5,cTplB: 'cf',cK: \"visitor-time\",fa: \"\\/@WriterMaran\\/the-art-and-business-of-writing-online-how-to-start-and-make-money-8f9f12c7e607?__cf_chl_f_tk=Apc0FD9ebl_lPRBSCZXaq0e0ZkY3RK7Ey6NthMnwp98-1716475782-0.0.1.1-1813\",md: \"H0cbBg8VH3gWsXLUNkaaq_EJ6c.9okKLWBA8DOKJIl4-1716475782-1.1.1.1-o7cxlPld19742qCUK_IqVh0y3MlyggV7OwqrVwgYUTea67oZxpXvPwwMHY8dwDGaXT6jl09HklxNmU.zP0KVsAe6LmJIlZvQwAKZ6k7_gCJEmuMSzSIawuEdrRw_R2CsHEwn4gg7_Im6M5zSrLhnXzTiKIJFEpbbl22xvk6ax.5LL5ykHyDKqWWmu38jtwuk6T.xvZ5CFpO4t2GudDCKCF6qnU7UfTYMLNOzP_H8ZnpkAaZ7VKOtgue0gt.6UI9pjr9xsl47Nee_sE4mFkbAzJDZT38X9I9fVKLB3SSIooRe5y9JlzrAlTFdeVMg8CKjfHSKkUwdlEcz.P9shuLyPjnqxn4hPLNGDbHfJnfeEmVvpqe28W3_vSnsXbd4wdEWJpxJkDo8S7C7HTvP74pL9D2x6aE3hEP3Rgb9qsIPqvODYmJya0dpjwlB_CKeX_BUSvV.SkXgUOsem3ZIOxYEDzP9_PkZn3HtfVX6eWM4n8f8ubjNc8uZ17gRMXzJ1kW01zXiARkGVJwpisSfkEvZAFvXBfKDHwPSMzLnBe.Ww99DjLb2YeOGq8TKjQ0oReULFmCnYuU5Uqc7e.H.hv_tP1Nr2WXAV6nlFZ5BB3FkObWRljZ5LFNs5danXaQ1B09TjR.qr3pJQH2Hp1HBfSlHFjzvAa_staz7dL0lC4zVjUtO3y8kEKxT4dsZGZTyzLWUFRfrl50cQlTU15OOl.srQSlwmAIP5N.KUqAGRzMEnie8_A1kpdb3tlCGpc9IkDyriLD7sVAd.Dmyqqx_JdWtkqbucOtHE6GHl.L7r9LlFx8v9Pk_qlC2tEVOFn9iSfrxuJq7foBhYR5vOPyrE_QnNAaPS9BP08ZuaQUXjBvELh9GycNhb4Vr5MKgqaU2e8bteOoDBSMZSNyYTd2YqPVZH4NdzZVuTfLJvUVPe3puviCpSDF5Ds5ooBttiKpMGSYX.b1lcoSMVWC0hR32zxs.RxX3lXDzBE6CjqsFmtzbjjNddpfv9IkvJaHTUJXWNNJb2rpBSrJIAbSjsfmWuCF2brbU2xk3vVfPV1egIcUjcsJXWob2k13PFoLxg35mk2U7BOVNXNwX1d1g2Y.Sy_4xBSXvqMooSYaq9D4sdPZ7XrTUJM0PY9Ex0TNBHCsVSVwLvXZ7MWTUsL6uQQbn3jvAO4vkWQ7DG1XWrKOEs.5qgiJh953W7Yy5Uu9rU7PvOvWEkU5vseDEjRJFpGCl7UucBdwPf0II8r66OxGOP1ztEMKqbzgrFJDCw1GPVwaHFzF7ppFoIbleUltyumxXH8ElOO6Q9OlzdOh8KkE7wYrB46lGvO1l.Ylt26q8JQvrembMht_Epj1bsJGIG5KML9OlvXPAa51YkKOp3p33Hy03V57UQk5iMX3Lqy90e.oMHoMLxHHI0yDfqDpVHx7jjljrDxp3unw94u5PGHp8HPROQpbcuIer794GV2gHzHJswd8m6LC0AtXxd3dNcflH.SF2IsKI9pw7RY45vHCVQhPwMucViX258FpU8mFcnjYx4aQ71WqHeLSrJRvyAH3mJBJD9eTyEWn57eguSMcV8tKe.r8iou5_mIsxoRm9T7kELklpAV8FEsCZoIzBoMvkgl4zc7ZMDBYalI91ZagK_FnMepPOZ4LorVd82uhKA5s0GnUHBYL3q._7dwEwUzjU10ObM9ehUlz7gGgL.6d_OLTZdortI74bKcubdWieBefzEC3Wy49_4mIv8j8OxKCUgPaQjw\",mdrd: \"KMLPHkVbDCjnjANnhw80UqgL0teQ8aLaQKBIHFrL6VE-1716475782-1.1.1.1-1Ktm2ErkqPhqagaVgTwfrEYpXSaVKq3Kk8BF9V_w4LFVbMqFZpwKozoLbIYTdFgEEImB3zpAbli4HjAfbCrZB8w9GnmtqG0Heik.dOW1bhVn_GUnZtdYPTL8CcS9PzV1x2JTBrr.XxkTYeC6wZI_dFr0MVxrQkfN1QrJ9Z8IXizfmFeCdE6kGiNjP_OJBQO1DfP9XuWHyovzztZhyNVr56w292TAy5MfUZPphx4sM2p78FkA7Kspy.G.l0AQOpPaGgDbIpYkeTEeOzw7RcTvROEuqWPfYR9Y5kbqGJqUHdKFiS7N7tjo.BOhoqvfhgsxm4zortQi.75RIeNtvgJKIT39CckRtKtoZJ_KoMMS3.DXHkHjLh5BdgeB2w8sT2.yU6p90T2v6PAPE463ax1bTCYzFGXrN5dMoBxs7Hi_E_iv6A8WlvJckzuFncXmwV13CORXerss925qxFMbihEoJdr.LhipYBUXyPr.YyrI2djYyQdP1vNUgPSR6h1.mk2icPWpROoqB8S.KJrmAE_Dst9jryeJhCRv8Y3A71Hlj2cYyV6kcdw5XZSSx_oXGFLhYOlkXhH0vSZgVnAlK2T6siun1XvRV_LVRv52s_hDO5L4h0hb4PkvRjB9qFkGtixEZR45A2.xOTH_eGW0MeYTBOH_jnBqSxfLYjLNg9KPsm0o85wGWqzqwFxcFbjfj7wLU55UwNOD3.HSxPPdOe_3xBxcM.w_s8qUoDLqME33VCBesZzpLhGSkQYFKs9g.9lfarqBa6NP4VRut_mh054PJaTVBwzx5qs7cKHH7i0cFWyKnjJUqTrYhTu9znPwr9gcLyA8hVTPPNm4eQFIk_EZpK.YCgJSaOoZD6Ky03WbfikGakow3ooJIcpR0wT.tL6iJEJv3LVu4dPV9ic3Yh9T_d.lxeRLQS9akDLPwS_2YrsvZtb_L7LgKY83VXOCpUYtbVDxR3fD3z7hbDrn.WwnUzXRmtJ_njHYPyB7hTpy86WD0ujtzy81LRF4v6q5P_48cXioIvFRMI47ih20gN7bgzGwdT9QyOzH_.bdsqHr9bFg0K9fPD4.fjvjIh8RElrG2MTEt2GeoJjKeuYBoUV10zkB0nniIro_D.9BBd7QT22BASxFPtE1JNNRkXBewKh5Xch2i86.Um3Y9ukDKR2pNPOBB9qSGHkZ5vZh_BzxeHeXXvml7FaCTNyaShsoTAfcsENMNSxeNS0_5lS_WkW2wmA67UOlJyMUTyl410l5V_W9qCyft_YgI3LcDwGMH9Qe53D0CfX27Xvh0Zq5BJYBuFLaux7yylQ._sqlcjjLg1fd.nk88bpRITLzimp9oCkYEczleqh0JKbPjBTA7wD3UKvBWxC_EdkZ4LrVXU2pI7IJRbPulga1DytgclT7hqMPpVMUPQX6glhkLjhpcYXKeotL2IKByiuO8dhgWsEAHm0dB11qCm9160vZseGJe5pLOz86hyPAd2ps5kYhWTY7ciE4R7X6I3UkRAytATa2p5ihN7Jyh4bz3GK2JqTYVJ9e3ppgB_LpzqVcPILdCPCh0ReI5_XBrIZvkI_dFzM0OXJhNQcw0Jh0CS30_0XCTbBeeY0fqzEGxICYJr2gST8EcI2syI7sUs8UBFNB6Lx3JwrjpHn0N5sZ4uljgeFMlJ1nB99w4YMz.uOOdf0FAbsAKxd4l4ZqgsKviZw5qmANXjxcIGN.oZBcR4nkN1SxZ3WQxmfTVncIsrr8bQbmDRxfSqHUILoz2bbjNZiFGhesfwx8FEu_QoMgQzBBL41T943FtGi5tIxFTpyRH060Pa0S1f.kI3ZIos_R.ZBFjDLp68jBLmWUWlzOBz8EG3Zx56V_wZYXhR4bAs3QiKM0aAsnz2cy.f0kF9DhbZEJvOzZXo_bZZ9906b.p9uPsnuuInf7Vzk47e.jDFgfaM9C..EQSoRcEOU_A55U55CTYLWWXc.o1qkWjvb3yVbFwJM9bFm_pa.iGOIv06Rs1F_1UW.XVqWi4bKAOOjBKsqe89QJT8pI92tNNyjA172QSzRCwq0QsMF28NO.r_XaMTRpRuVNvQ\",cRq: {ru: 'aHR0cHM6Ly9tZWRpdW0uY29tL0BXcml0ZXJNYXJhbi90aGUtYXJ0LWFuZC1idXNpbmVzcy1vZi13cml0aW5nLW9ubGluZS1ob3ctdG8tc3RhcnQtYW5kLW1ha2UtbW9uZXktOGY5ZjEyYzdlNjA3',ra: 'cHl0aG9uLXJlcXVlc3RzLzIuMzEuMA==',rm: 'R0VU',d: 'jgfgYompzzLxpQjXBwKlzQES3+wmjFkexQQDY3BlDoVDlINyOEANEkU/us60se+38ODuOU1zSPiWpBUTq43GJEM6V3czuGEuwMNVBwdqA+X+n0CE7HdNEndcTGPwFUcfboOATj4DPD8HfEVxyCSr5alWOu9UaCjOhTC5M/joxdQbyJx1UT1A9rg86WUWmHs49pYu/ZpIIaQBQlnP7m2/RfrvYkx3acVFZBVOpfLE/4p9s2YuKTrnFAkTJVLHDnOGtnLJOxED8pr7RZVUg9fk7w3E85LCxXWnFdhnwDk0z6xJXV2I58LztPYEaUfcERoZrn6fL+ySdBdU7n4qRquWls3z/fJOKys8DqAoXq/j8G6k6JfxC9126nRL0INS07XOVpxBq+LkoB4/oychJXj3FC+aDTipQE7X5BFVhyCVNYUv3mq5HiII1Wz98AmIgzTDSVttPNFuI93njwBesEaKxol1m3kUOugkkjcrKlA/7ziXYh+dIw20mUZ4eyJ2KgidI8NU5Gf/iI3FWx1ucMfKlBeas8bVf/i5i90e8zp+Yb7xheNPCA7BCsdksVzCzx2I',t: 'MTcxNjQ3NTc4Mi4xMDcwMDA=',cT: Math.floor(Date.now() / 1000),m: 'pzZAlVxFmMHvFKsXDBiqQLgTnCe1pZQYA2BfBM6x1cs=',i1: '3Qu7qoqdVQOX5PTZnOrS0g==',i2: 'Ms+Gdl/8a5FaSZiu0ly7/Q==',zh: 'Ycgpu9r177LxjbQGFsmz/e0ei9K/7m7t1CDoKCYIB7I=',uh: 'YE9XOpG5TeHmhA1zfs5mxC8CrRZzq2a/+r+OU7dliYQ=',hh: 'YvLLNAANQRqbdRleAht8yWR4w9yWVhTbCiWB1al3UhY=',}};var cpo = document.createElement('script');cpo.src = '/cdn-cgi/challenge-platform/h/b/orchestrate/chl_page/v1?ray=8885daa62c1ca35a';window._cf_chl_opt.cOgUHash = location.hash === '' && location.href.indexOf('#') !== -1 ? '#' : location.hash;window._cf_chl_opt.cOgUQuery = location.search === '' && location.href.slice(0, location.href.length - window._cf_chl_opt.cOgUHash.length).indexOf('?') !== -1 ? '?' : location.search;if (window.history && window.history.replaceState) {var ogU = location.pathname + window._cf_chl_opt.cOgUQuery + window._cf_chl_opt.cOgUHash;history.replaceState(null, null, \"\\/@WriterMaran\\/the-art-and-business-of-writing-online-how-to-start-and-make-money-8f9f12c7e607?__cf_chl_rt_tk=Apc0FD9ebl_lPRBSCZXaq0e0ZkY3RK7Ey6NthMnwp98-1716475782-0.0.1.1-1813\" + window._cf_chl_opt.cOgUHash);cpo.onload = function() {history.replaceState(null, null, ogU);}}document.getElementsByTagName('head')[0].appendChild(cpo);}());</script></body></html>"
            ]
          },
          "metadata": {},
          "execution_count": 40
        }
      ]
    },
    {
      "cell_type": "code",
      "source": [
        "results = soup.find_all(['h1', 'p'])\n",
        "results"
      ],
      "metadata": {
        "colab": {
          "base_uri": "https://localhost:8080/"
        },
        "id": "qYU71tk-sVcd",
        "outputId": "24d7bf6c-6b95-4da6-c930-51899e4059df"
      },
      "execution_count": null,
      "outputs": [
        {
          "output_type": "execute_result",
          "data": {
            "text/plain": [
              "[]"
            ]
          },
          "metadata": {},
          "execution_count": 41
        }
      ]
    },
    {
      "cell_type": "code",
      "source": [
        "text = [result.text for result in results]\n",
        "ARTICLE = ' '.join(text)"
      ],
      "metadata": {
        "id": "qrSFv64Ps3fT"
      },
      "execution_count": null,
      "outputs": []
    },
    {
      "cell_type": "code",
      "source": [
        "ARTICLE"
      ],
      "metadata": {
        "colab": {
          "base_uri": "https://localhost:8080/",
          "height": 35
        },
        "id": "A2lXU8HUtBs0",
        "outputId": "b3eb9112-30b6-4190-cb9b-b8fcfe536274"
      },
      "execution_count": null,
      "outputs": [
        {
          "output_type": "execute_result",
          "data": {
            "text/plain": [
              "''"
            ],
            "application/vnd.google.colaboratory.intrinsic+json": {
              "type": "string"
            }
          },
          "metadata": {},
          "execution_count": 30
        }
      ]
    },
    {
      "cell_type": "code",
      "source": [
        "ARTICLE = ARTICLE.replace('.', '.<eos>')\n",
        "ARTICLE = ARTICLE.replace('?', '?<eos>')\n",
        "ARTICLE = ARTICLE.replace('!', '!<eos>')"
      ],
      "metadata": {
        "id": "NP8k_hFntXC6"
      },
      "execution_count": null,
      "outputs": []
    },
    {
      "cell_type": "code",
      "source": [
        "sentences = ARTICLE.split('<eos>')\n",
        "sentences"
      ],
      "metadata": {
        "colab": {
          "base_uri": "https://localhost:8080/"
        },
        "id": "f4ToeHflyiEN",
        "outputId": "be5988b1-d49b-45cd-c331-13b2208be651"
      },
      "execution_count": null,
      "outputs": [
        {
          "output_type": "execute_result",
          "data": {
            "text/plain": [
              "['']"
            ]
          },
          "metadata": {},
          "execution_count": 32
        }
      ]
    },
    {
      "cell_type": "code",
      "source": [
        "max_chunk = 500\n",
        "current_chunk = 0\n",
        "chunks = []\n",
        "\n",
        "for sentence in sentences:\n",
        "    if len(chunks)==current_chunk + 1:\n",
        "        if len(chunks[current_chunk]) + len(sentence.split(' ')) <= max_chunk:\n",
        "            chunks[current_chunk].extend(sentence.split(' '))\n",
        "        else:\n",
        "            current_chunk+=1\n",
        "            chunks.append(sentence.split(' '))\n",
        "    else:\n",
        "        print(current_chunk)\n",
        "        chunks.append(sentence.split(' '))\n",
        "\n",
        "for chunk_id in range(len(chunks)):\n",
        "    chunks[chunk_id] = ' '.join(chunks[chunk_id])"
      ],
      "metadata": {
        "colab": {
          "base_uri": "https://localhost:8080/"
        },
        "id": "fH_J6euDylMj",
        "outputId": "7e05a950-9f79-4c1e-bffc-e3dab4259eba"
      },
      "execution_count": null,
      "outputs": [
        {
          "output_type": "stream",
          "name": "stdout",
          "text": [
            "0\n"
          ]
        }
      ]
    },
    {
      "cell_type": "code",
      "source": [
        "len(chunks)"
      ],
      "metadata": {
        "colab": {
          "base_uri": "https://localhost:8080/"
        },
        "id": "0PSDJ_ml3ndY",
        "outputId": "f90afb18-4ece-4701-d9fa-b41a33f5e32b"
      },
      "execution_count": null,
      "outputs": [
        {
          "output_type": "execute_result",
          "data": {
            "text/plain": [
              "1"
            ]
          },
          "metadata": {},
          "execution_count": 34
        }
      ]
    },
    {
      "cell_type": "code",
      "source": [
        "res = summarizer(chunks, max_length=120, min_length=30, do_sample = False)"
      ],
      "metadata": {
        "colab": {
          "base_uri": "https://localhost:8080/"
        },
        "id": "Nx6bQEqH3osv",
        "outputId": "2764ad34-4a33-45df-913d-9bf2c5e2abe1"
      },
      "execution_count": null,
      "outputs": [
        {
          "output_type": "stream",
          "name": "stderr",
          "text": [
            "Your max_length is set to 120, but your input_length is only 3. Since this is a summarization task, where outputs shorter than the input are typically wanted, you might consider decreasing max_length manually, e.g. summarizer('...', max_length=1)\n"
          ]
        }
      ]
    },
    {
      "cell_type": "code",
      "source": [
        "res[0]"
      ],
      "metadata": {
        "colab": {
          "base_uri": "https://localhost:8080/"
        },
        "id": "Oj9M6Eie3zHW",
        "outputId": "fa146aed-7264-4116-b1a2-1c4d0a969f97"
      },
      "execution_count": null,
      "outputs": [
        {
          "output_type": "execute_result",
          "data": {
            "text/plain": [
              "{'summary_text': ' CNN.com will feature iReporter photos in a weekly Travel Snapshots gallery . Please submit your best shots of our featured destinations for next week . Visit CNN iReport.com/Travel next Wednesday for a new gallery of snapshots .'}"
            ]
          },
          "metadata": {},
          "execution_count": 36
        }
      ]
    },
    {
      "cell_type": "code",
      "source": [
        "text = ' '.join([summ['summary_text'] for summ in res])\n",
        "text"
      ],
      "metadata": {
        "colab": {
          "base_uri": "https://localhost:8080/",
          "height": 69
        },
        "id": "FfjJex-O30PB",
        "outputId": "5d1c7a8e-218f-46ba-fad1-7324753c49aa"
      },
      "execution_count": null,
      "outputs": [
        {
          "output_type": "execute_result",
          "data": {
            "text/plain": [
              "' CNN.com will feature iReporter photos in a weekly Travel Snapshots gallery . Please submit your best shots of our featured destinations for next week . Visit CNN iReport.com/Travel next Wednesday for a new gallery of snapshots .'"
            ],
            "application/vnd.google.colaboratory.intrinsic+json": {
              "type": "string"
            }
          },
          "metadata": {},
          "execution_count": 37
        }
      ]
    }
  ]
}