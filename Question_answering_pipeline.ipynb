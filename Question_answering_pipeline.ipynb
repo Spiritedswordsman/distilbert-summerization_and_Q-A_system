{
  "cells": [
    {
      "cell_type": "markdown",
      "metadata": {
        "id": "PEKGGm6z7b6k"
      },
      "source": [
        "Install the Transformers and Datasets libraries to run this notebook."
      ]
    },
    {
      "cell_type": "code",
      "execution_count": 2,
      "metadata": {
        "id": "Y5f-TInS7b6m",
        "outputId": "c8506183-6b64-451d-cf00-f73765a3289d",
        "colab": {
          "base_uri": "https://localhost:8080/"
        }
      },
      "outputs": [
        {
          "output_type": "stream",
          "name": "stdout",
          "text": [
            "Collecting datasets\n",
            "  Downloading datasets-2.19.2-py3-none-any.whl (542 kB)\n",
            "\u001b[2K     \u001b[90m━━━━━━━━━━━━━━━━━━━━━━━━━━━━━━━━━━━━━━━━\u001b[0m \u001b[32m542.1/542.1 kB\u001b[0m \u001b[31m3.3 MB/s\u001b[0m eta \u001b[36m0:00:00\u001b[0m\n",
            "\u001b[?25hRequirement already satisfied: transformers[sentencepiece] in /usr/local/lib/python3.10/dist-packages (4.41.1)\n",
            "Requirement already satisfied: filelock in /usr/local/lib/python3.10/dist-packages (from datasets) (3.14.0)\n",
            "Requirement already satisfied: numpy>=1.17 in /usr/local/lib/python3.10/dist-packages (from datasets) (1.25.2)\n",
            "Requirement already satisfied: pyarrow>=12.0.0 in /usr/local/lib/python3.10/dist-packages (from datasets) (14.0.2)\n",
            "Requirement already satisfied: pyarrow-hotfix in /usr/local/lib/python3.10/dist-packages (from datasets) (0.6)\n",
            "Collecting dill<0.3.9,>=0.3.0 (from datasets)\n",
            "  Downloading dill-0.3.8-py3-none-any.whl (116 kB)\n",
            "\u001b[2K     \u001b[90m━━━━━━━━━━━━━━━━━━━━━━━━━━━━━━━━━━━━━━━━\u001b[0m \u001b[32m116.3/116.3 kB\u001b[0m \u001b[31m11.0 MB/s\u001b[0m eta \u001b[36m0:00:00\u001b[0m\n",
            "\u001b[?25hRequirement already satisfied: pandas in /usr/local/lib/python3.10/dist-packages (from datasets) (2.0.3)\n",
            "Collecting requests>=2.32.1 (from datasets)\n",
            "  Downloading requests-2.32.3-py3-none-any.whl (64 kB)\n",
            "\u001b[2K     \u001b[90m━━━━━━━━━━━━━━━━━━━━━━━━━━━━━━━━━━━━━━━━\u001b[0m \u001b[32m64.9/64.9 kB\u001b[0m \u001b[31m5.2 MB/s\u001b[0m eta \u001b[36m0:00:00\u001b[0m\n",
            "\u001b[?25hRequirement already satisfied: tqdm>=4.62.1 in /usr/local/lib/python3.10/dist-packages (from datasets) (4.66.4)\n",
            "Collecting xxhash (from datasets)\n",
            "  Downloading xxhash-3.4.1-cp310-cp310-manylinux_2_17_x86_64.manylinux2014_x86_64.whl (194 kB)\n",
            "\u001b[2K     \u001b[90m━━━━━━━━━━━━━━━━━━━━━━━━━━━━━━━━━━━━━━━━\u001b[0m \u001b[32m194.1/194.1 kB\u001b[0m \u001b[31m10.6 MB/s\u001b[0m eta \u001b[36m0:00:00\u001b[0m\n",
            "\u001b[?25hCollecting multiprocess (from datasets)\n",
            "  Downloading multiprocess-0.70.16-py310-none-any.whl (134 kB)\n",
            "\u001b[2K     \u001b[90m━━━━━━━━━━━━━━━━━━━━━━━━━━━━━━━━━━━━━━━━\u001b[0m \u001b[32m134.8/134.8 kB\u001b[0m \u001b[31m12.4 MB/s\u001b[0m eta \u001b[36m0:00:00\u001b[0m\n",
            "\u001b[?25hRequirement already satisfied: fsspec[http]<=2024.3.1,>=2023.1.0 in /usr/local/lib/python3.10/dist-packages (from datasets) (2023.6.0)\n",
            "Requirement already satisfied: aiohttp in /usr/local/lib/python3.10/dist-packages (from datasets) (3.9.5)\n",
            "Requirement already satisfied: huggingface-hub>=0.21.2 in /usr/local/lib/python3.10/dist-packages (from datasets) (0.23.2)\n",
            "Requirement already satisfied: packaging in /usr/local/lib/python3.10/dist-packages (from datasets) (24.0)\n",
            "Requirement already satisfied: pyyaml>=5.1 in /usr/local/lib/python3.10/dist-packages (from datasets) (6.0.1)\n",
            "Requirement already satisfied: regex!=2019.12.17 in /usr/local/lib/python3.10/dist-packages (from transformers[sentencepiece]) (2024.5.15)\n",
            "Requirement already satisfied: tokenizers<0.20,>=0.19 in /usr/local/lib/python3.10/dist-packages (from transformers[sentencepiece]) (0.19.1)\n",
            "Requirement already satisfied: safetensors>=0.4.1 in /usr/local/lib/python3.10/dist-packages (from transformers[sentencepiece]) (0.4.3)\n",
            "Requirement already satisfied: sentencepiece!=0.1.92,>=0.1.91 in /usr/local/lib/python3.10/dist-packages (from transformers[sentencepiece]) (0.1.99)\n",
            "Requirement already satisfied: protobuf in /usr/local/lib/python3.10/dist-packages (from transformers[sentencepiece]) (3.20.3)\n",
            "Requirement already satisfied: aiosignal>=1.1.2 in /usr/local/lib/python3.10/dist-packages (from aiohttp->datasets) (1.3.1)\n",
            "Requirement already satisfied: attrs>=17.3.0 in /usr/local/lib/python3.10/dist-packages (from aiohttp->datasets) (23.2.0)\n",
            "Requirement already satisfied: frozenlist>=1.1.1 in /usr/local/lib/python3.10/dist-packages (from aiohttp->datasets) (1.4.1)\n",
            "Requirement already satisfied: multidict<7.0,>=4.5 in /usr/local/lib/python3.10/dist-packages (from aiohttp->datasets) (6.0.5)\n",
            "Requirement already satisfied: yarl<2.0,>=1.0 in /usr/local/lib/python3.10/dist-packages (from aiohttp->datasets) (1.9.4)\n",
            "Requirement already satisfied: async-timeout<5.0,>=4.0 in /usr/local/lib/python3.10/dist-packages (from aiohttp->datasets) (4.0.3)\n",
            "Requirement already satisfied: typing-extensions>=3.7.4.3 in /usr/local/lib/python3.10/dist-packages (from huggingface-hub>=0.21.2->datasets) (4.12.0)\n",
            "Requirement already satisfied: charset-normalizer<4,>=2 in /usr/local/lib/python3.10/dist-packages (from requests>=2.32.1->datasets) (3.3.2)\n",
            "Requirement already satisfied: idna<4,>=2.5 in /usr/local/lib/python3.10/dist-packages (from requests>=2.32.1->datasets) (3.7)\n",
            "Requirement already satisfied: urllib3<3,>=1.21.1 in /usr/local/lib/python3.10/dist-packages (from requests>=2.32.1->datasets) (2.0.7)\n",
            "Requirement already satisfied: certifi>=2017.4.17 in /usr/local/lib/python3.10/dist-packages (from requests>=2.32.1->datasets) (2024.2.2)\n",
            "Requirement already satisfied: python-dateutil>=2.8.2 in /usr/local/lib/python3.10/dist-packages (from pandas->datasets) (2.8.2)\n",
            "Requirement already satisfied: pytz>=2020.1 in /usr/local/lib/python3.10/dist-packages (from pandas->datasets) (2023.4)\n",
            "Requirement already satisfied: tzdata>=2022.1 in /usr/local/lib/python3.10/dist-packages (from pandas->datasets) (2024.1)\n",
            "Requirement already satisfied: six>=1.5 in /usr/local/lib/python3.10/dist-packages (from python-dateutil>=2.8.2->pandas->datasets) (1.16.0)\n",
            "Installing collected packages: xxhash, requests, dill, multiprocess, datasets\n",
            "  Attempting uninstall: requests\n",
            "    Found existing installation: requests 2.31.0\n",
            "    Uninstalling requests-2.31.0:\n",
            "      Successfully uninstalled requests-2.31.0\n",
            "\u001b[31mERROR: pip's dependency resolver does not currently take into account all the packages that are installed. This behaviour is the source of the following dependency conflicts.\n",
            "google-colab 1.0.0 requires requests==2.31.0, but you have requests 2.32.3 which is incompatible.\u001b[0m\u001b[31m\n",
            "\u001b[0mSuccessfully installed datasets-2.19.2 dill-0.3.8 multiprocess-0.70.16 requests-2.32.3 xxhash-3.4.1\n"
          ]
        }
      ],
      "source": [
        "! pip install datasets transformers[sentencepiece]"
      ]
    },
    {
      "cell_type": "code",
      "execution_count": 13,
      "metadata": {
        "id": "04LCjwVW7b6o",
        "outputId": "c8370809-ac45-42d4-e57f-95f3d47539fe",
        "colab": {
          "base_uri": "https://localhost:8080/"
        }
      },
      "outputs": [
        {
          "output_type": "stream",
          "name": "stderr",
          "text": [
            "No model was supplied, defaulted to distilbert/distilbert-base-cased-distilled-squad and revision 626af31 (https://huggingface.co/distilbert/distilbert-base-cased-distilled-squad).\n",
            "Using a pipeline without specifying a model name and revision in production is not recommended.\n"
          ]
        },
        {
          "output_type": "execute_result",
          "data": {
            "text/plain": [
              "{'score': 0.5502927303314209,\n",
              " 'start': 1011,\n",
              " 'end': 1025,\n",
              " 'answer': 'autumn of 2003'}"
            ]
          },
          "metadata": {},
          "execution_count": 13
        }
      ],
      "source": [
        "from transformers import pipeline\n",
        "\n",
        "question_answerer = pipeline(\"question-answering\")\n",
        "context = \"\"\"\n",
        "Django (/ˈdʒæŋɡoʊ/ JANG-goh; sometimes stylized as django)[6] is a free and open-source, Python-based web framework that runs on a web server. It follows the model–template–views (MTV) architectural pattern.[7][8] It is maintained by the Django Software Foundation (DSF), an independent organization established in the US as a 501(c)(3) non-profit.\n",
        "\n",
        "Django's primary goal is to ease the creation of complex, database-driven websites. The framework emphasizes reusability and \"pluggability\" of components, less code, low coupling, rapid development, and the principle of don't repeat yourself.[9] Python is used throughout, even for settings, files, and data models. Django also provides an optional administrative create, read, update and delete interface that is generated dynamically through introspection and configured via admin models.\n",
        "\n",
        "Some well-known sites that use Django include Instagram,[10] Mozilla,[11] Disqus,[12] Bitbucket,[13] Nextdoor[14] and Clubhouse.[15]\n",
        "History\n",
        "\n",
        "Django was created in the autumn of 2003, when the web programmers at the Lawrence Journal-World newspaper, Adrian Holovaty and Simon Willison, began using Python to build applications. Jacob Kaplan-Moss was hired early in Django's development shortly before Simon Willison's internship ended.[16] It was released publicly under a BSD license in July 2005. The framework was named after guitarist Django Reinhardt.[17] Adrian Holovaty is a Romani jazz guitar player inspired in part by Reinhardt's music.[18]\n",
        "\n",
        "In June 2008, it was announced that a newly formed Django Software Foundation (DSF) would maintain Django in the future.[19]\n",
        "\"\"\"\n",
        "question = \"When was Django launched?\"\n",
        "question_answerer(question=question, context=context)"
      ]
    },
    {
      "cell_type": "code",
      "execution_count": 16,
      "metadata": {
        "id": "eBcHAow87b6s"
      },
      "outputs": [],
      "source": [
        "long_context = \"\"\"\n",
        "Django Unchained is a 2012 American revisionist Western[5] film written and directed by Quentin Tarantino, starring Jamie Foxx, Christoph Waltz, Leonardo DiCaprio, Kerry Washington, and Samuel L. Jackson, with Walton Goggins, Dennis Christopher, James Remar, Michael Parks, and Don Johnson in supporting roles. Set in the Old West and Antebellum South, it is a highly stylized, heavily revisionist tribute to spaghetti Westerns, in particular the 1966 Italian film Django by Sergio Corbucci (the star of which, Franco Nero, has a cameo appearance). The story follows a slave who trains under a German bounty hunter with the ultimate goal of reuniting with his wife.\n",
        "\n",
        "Development of Django Unchained began in 2007 when Tarantino was writing a book on Corbucci. By April 2011, Tarantino sent his final draft of the script to The Weinstein Company (TWC). Casting began in the summer of 2011, with Michael K. Williams and Will Smith being considered for the role of the title character before Foxx was cast. Principal photography took place from November 2011 to March 2012 in California, Wyoming, and Louisiana.\n",
        "\n",
        "The premiere of Django Unchained took place at the Ziegfeld Theatre in New York City on December 11, 2012, and was theatrically released on December 25, 2012, in the United States, grossing over $426 million worldwide against its budget of $100 million, becoming Tarantino's highest grossing movie to date. The film received acclaim from critics, mainly for Waltz's performance and Tarantino's direction and screenplay, though the film's graphic violence and heavy usage of the word \"nigger\" drew controversy. The film received numerous awards and nominations, winning two out of five nominations at the 85th Academy Awards. Waltz won several awards for his performance, among them Best Supporting Actor at the Academy Awards, Golden Globes and BAFTAs. For his screenplay, Tarantino won an Academy Award, a Golden Globe, and a BAFTA.\n",
        "Plot\n",
        "\n",
        "In 1858 Texas, brothers Ace and Dicky Speck drive a group of shackled black slaves. Among them is Django, sold off and separated from his wife Broomhilda von Shaft, a house slave who speaks German and English. They are stopped by Dr. King Schultz, a German dentist-turned-bounty hunter seeking to buy Django for his knowledge of the three outlaw Brittle brothers, overseers at the plantation of Django's previous owner and for whom Schultz has a warrant. When Ace refuses to sell Django to Schultz and threatens him at gunpoint, Schultz kills him and shoots Dicky's horse in order to pin him to the ground; he advises the freed slaves to take the opportunity for revenge, which they do by shooting him. Schultz offers Django his freedom and $75 in exchange for help tracking down the Brittles.\n",
        "\n",
        "Django and Schultz kill the Brittle brothers at Spencer \"Big Daddy\" Bennett's Tennessee plantation. In turn, Bennett pursues them with an armed posse. Schultz ambushes the posse with explosives, and Django kills Bennett. Feeling responsible for Django, Schultz agrees to help him find and rescue Broomhilda, and Schultz trains Django to become a bounty hunter. They return to Texas, where Django collects his first bounty, keeping the handbill as a memento and for good luck. He and Schultz rack up several bounties before spring when they travel to Mississippi and learn that Broomhilda's new owner is a member of the American gentry Calvin J. Candie, the charming but cruel owner of the \"Candyland\" plantation, where male slaves are forced to wrestle to the death in brutal \"Mandingo\" fights.\n",
        "\n",
        "Schultz and Django hatch a plan: deciding that Candie will refuse to sell Broomhilda if they try to buy her upfront, they will instead offer $12,000 (equivalent to $423,000 in 2023) for one of his best fighters as a pretext to acquiring Broomhilda for a nominal sum. They intend to leave the plantation with Broomhilda under the pretense of returning with the purchase money for a fighter. They meet Candie at his gentlemen's club and make the offer. Intrigued, Candie invites them to Candyland. En route, the group encounters Candie's slave trackers, who have cornered D'Artagnan, an escapee Mandingo fighter. Django is forced to intervene when Schultz attempts to buy D'Artagnan on the spot to save him. Candie has the trackers' guard dogs maul D'Artagnan to death, visibly upsetting Schultz.\n",
        "\n",
        "Having told Broomhilda of their plan, Schultz offers to buy her as his escort while negotiating the initial Mandingo deal during dinner. Candie's staunchly loyal and suspicious head house slave Stephen realizes that Broomhilda knows Django, deduces their plan, and alerts Candie. Enraged, Candie alters the deal at gunpoint to sell Broomhilda for $12,000 instead of the fighter; Schultz reluctantly agrees. During the sale's finalization, Candie threatens to kill Broomhilda if Schultz does not shake his hand to seal the deal. Having had enough of Candie's arrogance, Schultz impulsively shoots and kills Candie. Butch Pooch, Candie's bodyguard, kills Schultz, and Django kills Pooch, Candie's lawyer Leonide Moguy, and many of Candie's henchmen in a prolonged gunfight, but is forced to surrender when Broomhilda is taken hostage.\n",
        "\n",
        "The next morning, the chained Django is tortured and about to be castrated by overseer Billy Crash when Stephen arrives, informing him that Candie's sister Lara, who has taken charge of the plantation, has ordered him to be sold to a mining company and worked to death. En route there along with other slaves, Django devises an escape plan and uses his first handbill to prove to his escorts that he is a bounty hunter. He falsely says that the men on the handbill from his first bounty are at Candyland, and promises the escorts a share of the reward money. Once released and handed a gun, Django immediately kills his escorts, retrieves his clothes and weapons, and returns to Candyland with dynamite.\n",
        "\n",
        "Recovering Broomhilda's freedom papers from Schultz's corpse, Django bids his deceased mentor goodbye and avenges him and D'Artagnan by killing the trackers. He then frees Broomhilda just as Candie's mourners return from his burial. At the mansion, Django kills Lara, Crash, and the remaining henchmen, releases the two remaining house slaves, and kneecaps Stephen before igniting the dynamite he had planted throughout the mansion. Django and Broomhilda watch from a distance as the mansion explodes before riding off together.\n",
        "\"\"\""
      ]
    },
    {
      "cell_type": "code",
      "source": [
        "question = \"Who is the main character of the Film Django Unchained\""
      ],
      "metadata": {
        "id": "lHz7kUhF-57C"
      },
      "execution_count": 19,
      "outputs": []
    },
    {
      "cell_type": "code",
      "execution_count": 20,
      "metadata": {
        "id": "to6VKivp7b6u",
        "outputId": "dcd39153-74ac-4e91-cab5-b0bd42c6acb5",
        "colab": {
          "base_uri": "https://localhost:8080/"
        }
      },
      "outputs": [
        {
          "output_type": "execute_result",
          "data": {
            "text/plain": [
              "{'score': 0.0022519254125654697,\n",
              " 'start': 129,\n",
              " 'end': 144,\n",
              " 'answer': 'Christoph Waltz'}"
            ]
          },
          "metadata": {},
          "execution_count": 20
        }
      ],
      "source": [
        "question_answerer(\n",
        "    question=question,\n",
        "    context=long_context\n",
        ")"
      ]
    }
  ],
  "metadata": {
    "colab": {
      "name": "Inside the Question answering pipeline (PyTorch)",
      "provenance": []
    },
    "language_info": {
      "name": "python"
    },
    "kernelspec": {
      "name": "python3",
      "display_name": "Python 3"
    }
  },
  "nbformat": 4,
  "nbformat_minor": 0
}